{
 "cells": [
  {
   "cell_type": "code",
   "execution_count": 1,
   "id": "9c95f3d8",
   "metadata": {},
   "outputs": [],
   "source": [
    "import joblib"
   ]
  },
  {
   "cell_type": "code",
   "execution_count": 3,
   "id": "8ff0addb",
   "metadata": {},
   "outputs": [],
   "source": [
    "model = joblib.load('salary.pk1')"
   ]
  },
  {
   "cell_type": "code",
   "execution_count": 5,
   "id": "73589744",
   "metadata": {},
   "outputs": [
    {
     "data": {
      "text/plain": [
       "array([49417.10600231])"
      ]
     },
     "execution_count": 5,
     "metadata": {},
     "output_type": "execute_result"
    }
   ],
   "source": [
    "model.predict([[2.5]])"
   ]
  },
  {
   "cell_type": "code",
   "execution_count": null,
   "id": "8779bd30",
   "metadata": {},
   "outputs": [],
   "source": []
  }
 ],
 "metadata": {
  "kernelspec": {
   "display_name": "Python 3",
   "language": "python",
   "name": "python3"
  },
  "language_info": {
   "codemirror_mode": {
    "name": "ipython",
    "version": 3
   },
   "file_extension": ".py",
   "mimetype": "text/x-python",
   "name": "python",
   "nbconvert_exporter": "python",
   "pygments_lexer": "ipython3",
   "version": "3.8.3"
  }
 },
 "nbformat": 4,
 "nbformat_minor": 5
}
